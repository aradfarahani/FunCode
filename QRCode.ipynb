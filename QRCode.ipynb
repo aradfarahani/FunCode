{
 "cells": [
  {
   "cell_type": "code",
   "execution_count": 21,
   "id": "36173709-193f-4283-969b-0e77f68c027e",
   "metadata": {},
   "outputs": [],
   "source": [
    "import qrcode\n",
    "import matplotlib.pyplot as plt"
   ]
  },
  {
   "cell_type": "code",
   "execution_count": 22,
   "id": "445af403-e5de-412b-9042-7aaf639252ce",
   "metadata": {},
   "outputs": [],
   "source": [
    "img = qrcode.make(\"https://www.linkedin.com/in/aradfarahani/\")"
   ]
  },
  {
   "cell_type": "code",
   "execution_count": 20,
   "id": "c2981941-389a-482e-ae44-459b68f1567f",
   "metadata": {},
   "outputs": [],
   "source": [
    "img.save(\"myLinkedIn.png\")"
   ]
  },
  {
   "cell_type": "code",
   "execution_count": null,
   "id": "ef7056c0-dddd-4a5a-ab5a-c4cee44b0637",
   "metadata": {},
   "outputs": [],
   "source": []
  }
 ],
 "metadata": {
  "kernelspec": {
   "display_name": "Python 3 (ipykernel)",
   "language": "python",
   "name": "python3"
  },
  "language_info": {
   "codemirror_mode": {
    "name": "ipython",
    "version": 3
   },
   "file_extension": ".py",
   "mimetype": "text/x-python",
   "name": "python",
   "nbconvert_exporter": "python",
   "pygments_lexer": "ipython3",
   "version": "3.9.7"
  }
 },
 "nbformat": 4,
 "nbformat_minor": 5
}
